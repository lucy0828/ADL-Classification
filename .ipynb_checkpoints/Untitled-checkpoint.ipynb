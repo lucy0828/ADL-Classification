{
 "cells": [
  {
   "cell_type": "code",
   "execution_count": 1,
   "id": "chief-locator",
   "metadata": {},
   "outputs": [
    {
     "name": "stdout",
     "output_type": "stream",
     "text": [
      "                              filename  onset  offset     event_label\n",
      "0     Y00pbt6aJV8Y_350.000_360.000.wav  0.000   9.971  Vacuum_cleaner\n",
      "1       Y00pK0GMmE9s_70.000_80.000.wav  0.000  10.000  Vacuum_cleaner\n",
      "2       Y02sD1KJeoGA_50.000_60.000.wav  0.000  10.000          Frying\n",
      "3       Y0bjUq9XMMmQ_30.000_40.000.wav  0.000  10.000          Frying\n",
      "4       Y0cH_NlhhMAs_30.000_40.000.wav  1.710   6.005             Cat\n",
      "...                                ...    ...     ...             ...\n",
      "4234  Yb8GxUkjLSUY_628.000_638.000.wav  4.772   5.228          Speech\n",
      "4235  Yb8GxUkjLSUY_628.000_638.000.wav  5.606   6.360          Speech\n",
      "4236  Yb8GxUkjLSUY_628.000_638.000.wav  7.644   8.220          Speech\n",
      "4237  Yb8GxUkjLSUY_628.000_638.000.wav  8.524   9.391          Speech\n",
      "4238    Y86owBlJa8f0_24.000_34.000.wav    NaN     NaN             NaN\n",
      "\n",
      "[4239 rows x 4 columns]\n"
     ]
    }
   ],
   "source": [
    "import pandas as pd\n",
    "dataset = pd.read_csv(\"C:/Users/Ahhyun Yuh/Audio/DESED/data/desed_real/metadata/validation/validation.tsv\", delimiter='\\t')\n",
    "print(dataset)"
   ]
  },
  {
   "cell_type": "code",
   "execution_count": 18,
   "id": "external-proxy",
   "metadata": {},
   "outputs": [
    {
     "data": {
      "text/plain": [
       "RangeIndex(start=0, stop=4239, step=1)"
      ]
     },
     "execution_count": 18,
     "metadata": {},
     "output_type": "execute_result"
    }
   ],
   "source": [
    "dataset.event_label.value_counts()\n",
    "dataset.index"
   ]
  },
  {
   "cell_type": "code",
   "execution_count": 13,
   "id": "elder-improvement",
   "metadata": {},
   "outputs": [
    {
     "name": "stdout",
     "output_type": "stream",
     "text": [
      "Speech\n"
     ]
    }
   ],
   "source": [
    "desed_class = ['Speech', 'Dog', 'Dishes', 'Alarm_bell_ringing', 'Cat', 'Running_water', \n",
    "                   'Blender', 'Frying', 'Vacuum_cleaner', 'Electric_shaver_toothbrush']\n",
    "print(desed_class[0])"
   ]
  }
 ],
 "metadata": {
  "kernelspec": {
   "display_name": "Python 3",
   "language": "python",
   "name": "python3"
  },
  "language_info": {
   "codemirror_mode": {
    "name": "ipython",
    "version": 3
   },
   "file_extension": ".py",
   "mimetype": "text/x-python",
   "name": "python",
   "nbconvert_exporter": "python",
   "pygments_lexer": "ipython3",
   "version": "3.7.10"
  }
 },
 "nbformat": 4,
 "nbformat_minor": 5
}
