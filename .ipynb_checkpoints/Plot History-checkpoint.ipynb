{
 "cells": [
  {
   "cell_type": "code",
   "execution_count": null,
   "id": "rising-incident",
   "metadata": {},
   "outputs": [],
   "source": [
    "import os\n",
    "import matplotlib.pyplot as plt\n",
    "import pandas as pd"
   ]
  },
  {
   "cell_type": "code",
   "execution_count": null,
   "id": "surrounded-cursor",
   "metadata": {},
   "outputs": [],
   "source": [
    "log_csvs = sorted(os.listdir('./logs'))\n",
    "print(log_csvs)"
   ]
  },
  {
   "cell_type": "code",
   "execution_count": null,
   "id": "turkish-outreach",
   "metadata": {},
   "outputs": [],
   "source": [
    "labels = ['Conv 1D', 'Conv 2D', 'LSTM']\n",
    "colors = ['r', 'm', 'c']"
   ]
  },
  {
   "cell_type": "code",
   "execution_count": null,
   "id": "extensive-starter",
   "metadata": {
    "lines_to_next_cell": 0
   },
   "outputs": [],
   "source": [
    "fig, ax = plt.subplots(1, 3, sharey=True, figsize=(16,5))\n",
    "\n",
    "for i, (fn, label, c) in enumerate(zip(log_csvs, labels, colors)):\n",
    "    csv_path = os.path.join('./logs', fn)\n",
    "    df = pd.read_csv(csv_path)\n",
    "    ax[i].set_title(label, size=16)\n",
    "    ax[i].plot(df.accuracy, color=c, label='train')\n",
    "    ax[i].plot(df.val_accuracy, ls='--', color=c, label='test')\n",
    "    ax[i].legend(loc='upper left')\n",
    "    ax[i].tick_params(axis='both', which='major', labelsize=12)\n",
    "    ax[i].set_ylim([0,1.0])\n",
    "\n",
    "fig.text(0.5, 0.02, 'Epochs', ha='center', size=14)\n",
    "fig.text(0.08, 0.5, 'Accuracy', va='center', rotation='vertical', size=14)\n",
    "plt.show()"
   ]
  },
  {
   "cell_type": "code",
   "execution_count": null,
   "id": "blind-delay",
   "metadata": {
    "lines_to_next_cell": 2
   },
   "outputs": [],
   "source": []
  }
 ],
 "metadata": {
  "jupytext": {
   "formats": "ipynb,py:light",
   "text_representation": {
    "extension": ".py",
    "format_name": "light",
    "format_version": "1.5",
    "jupytext_version": "1.11.1"
   }
  },
  "kernelspec": {
   "display_name": "Python 3",
   "language": "python",
   "name": "python3"
  },
  "language_info": {
   "codemirror_mode": {
    "name": "ipython",
    "version": 3
   },
   "file_extension": ".py",
   "mimetype": "text/x-python",
   "name": "python",
   "nbconvert_exporter": "python",
   "pygments_lexer": "ipython3",
   "version": "3.7.10"
  }
 },
 "nbformat": 4,
 "nbformat_minor": 5
}
